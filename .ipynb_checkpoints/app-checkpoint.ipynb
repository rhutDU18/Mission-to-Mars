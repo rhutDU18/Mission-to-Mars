{
 "cells": [
  {
   "cell_type": "code",
   "execution_count": 1,
   "id": "40e28ece",
   "metadata": {},
   "outputs": [
    {
     "name": "stderr",
     "output_type": "stream",
     "text": [
      "\n",
      "\n",
      "====== WebDriver manager ======\n",
      "Current google-chrome version is 102.0.5005\n",
      "Get LATEST chromedriver version for 102.0.5005 google-chrome\n",
      "There is no [win32] chromedriver for browser  in cache\n",
      "Trying to download new driver from https://chromedriver.storage.googleapis.com/102.0.5005.61/chromedriver_win32.zip\n",
      "Driver has been saved in cache [C:\\Users\\rhutc\\.wdm\\drivers\\chromedriver\\win32\\102.0.5005.61]\n"
     ]
    }
   ],
   "source": [
    "from flask import Flask, render_template, redirect, url_for\n",
    "from flask_pymongo import PyMongo\n",
    "import scraping"
   ]
  },
  {
   "cell_type": "code",
   "execution_count": 2,
   "id": "ab97493c",
   "metadata": {},
   "outputs": [
    {
     "name": "stdout",
     "output_type": "stream",
     "text": [
      "Requirement already satisfied: Flask-PyMongo in c:\\users\\rhutc\\anaconda3\\lib\\site-packages (2.3.0)\n",
      "Requirement already satisfied: PyMongo>=3.3 in c:\\users\\rhutc\\anaconda3\\lib\\site-packages (from Flask-PyMongo) (4.1.1)\n",
      "Requirement already satisfied: Flask>=0.11 in c:\\users\\rhutc\\anaconda3\\lib\\site-packages (from Flask-PyMongo) (1.1.2)\n",
      "Requirement already satisfied: itsdangerous>=0.24 in c:\\users\\rhutc\\anaconda3\\lib\\site-packages (from Flask>=0.11->Flask-PyMongo) (2.0.1)\n",
      "Requirement already satisfied: Jinja2>=2.10.1 in c:\\users\\rhutc\\anaconda3\\lib\\site-packages (from Flask>=0.11->Flask-PyMongo) (2.11.3)\n",
      "Requirement already satisfied: Werkzeug>=0.15 in c:\\users\\rhutc\\anaconda3\\lib\\site-packages (from Flask>=0.11->Flask-PyMongo) (2.0.2)\n",
      "Requirement already satisfied: click>=5.1 in c:\\users\\rhutc\\anaconda3\\lib\\site-packages (from Flask>=0.11->Flask-PyMongo) (8.0.3)\n",
      "Requirement already satisfied: colorama in c:\\users\\rhutc\\anaconda3\\lib\\site-packages (from click>=5.1->Flask>=0.11->Flask-PyMongo) (0.4.4)\n",
      "Requirement already satisfied: MarkupSafe>=0.23 in c:\\users\\rhutc\\anaconda3\\lib\\site-packages (from Jinja2>=2.10.1->Flask>=0.11->Flask-PyMongo) (1.1.1)\n"
     ]
    }
   ],
   "source": [
    "!pip install Flask-PyMongo"
   ]
  },
  {
   "cell_type": "code",
   "execution_count": 3,
   "id": "7f74268f",
   "metadata": {},
   "outputs": [
    {
     "name": "stdout",
     "output_type": "stream",
     "text": [
      "# conda environments:\n",
      "#\n",
      "base                  *  C:\\Users\\rhutc\\anaconda3\n",
      "PythonData               C:\\Users\\rhutc\\anaconda3\\envs\\PythonData\n",
      "                         C:\\Users\\rhutc\\anaconda3\\envs\\PythonData\\envs\\PythonData\n",
      "                         C:\\Users\\rhutc\\anaconda3\\envs\\PythonData\\envs\\mlenv\n",
      "\n",
      "# packages in environment at C:\\Users\\rhutc\\anaconda3:\n",
      "#\n",
      "# Name                    Version                   Build  Channel\n",
      "_ipyw_jlab_nb_ext_conf    0.1.0            py39haa95532_0  \n",
      "contextlib2               0.6.0.post1        pyhd3eb1b0_0  \n",
      "defusedxml                0.7.1              pyhd3eb1b0_0  \n",
      "et_xmlfile                1.1.0            py39haa95532_0  \n",
      "lazy-object-proxy         1.6.0            py39h2bbff1b_0  \n",
      "libspatialindex           1.9.3                h6c2663c_0  \n",
      "libxml2                   2.9.12               h0ad7f3c_0  \n",
      "libxslt                   1.1.34               he774522_0  \n",
      "lxml                      4.7.1            py39h1985fb9_1  \n",
      "mypy_extensions           0.4.3            py39haa95532_1  \n",
      "networkx                  2.6.3              pyhd3eb1b0_0  \n",
      "numexpr                   2.8.1            py39hb80d3ca_0  \n",
      "openpyxl                  3.0.9              pyhd3eb1b0_0  \n",
      "pexpect                   4.8.0              pyhd3eb1b0_3  \n",
      "regex                     2021.8.3         py39h2bbff1b_0  \n",
      "scikit-learn-intelex      2021.4.0         py39haa95532_0  \n",
      "six                       1.16.0             pyhd3eb1b0_0  \n",
      "sphinx                    4.2.0              pyhd3eb1b0_1  \n",
      "sphinxcontrib             1.0              py39haa95532_1  \n",
      "sphinxcontrib-applehelp   1.0.2              pyhd3eb1b0_0  \n",
      "sphinxcontrib-devhelp     1.0.2              pyhd3eb1b0_0  \n",
      "sphinxcontrib-htmlhelp    2.0.0              pyhd3eb1b0_0  \n",
      "sphinxcontrib-jsmath      1.0.1              pyhd3eb1b0_0  \n",
      "sphinxcontrib-qthelp      1.0.3              pyhd3eb1b0_0  \n",
      "sphinxcontrib-serializinghtml 1.1.5              pyhd3eb1b0_0  \n",
      "sphinxcontrib-websupport  1.2.4                      py_0  \n",
      "text-unidecode            1.3                pyhd3eb1b0_0  \n",
      "textdistance              4.2.1              pyhd3eb1b0_0  \n",
      "typing_extensions         3.10.0.2           pyh06a4308_0  \n",
      "widgetsnbextension        3.5.1            py39haa95532_0  \n",
      "xlrd                      2.0.1              pyhd3eb1b0_0  \n",
      "xlsxwriter                3.0.2              pyhd3eb1b0_0  \n",
      "xlwings                   0.24.9           py39haa95532_0  \n",
      "xlwt                      1.3.0            py39haa95532_0  \n",
      "xmltodict                 0.12.0             pyhd3eb1b0_0  \n",
      "xz                        5.2.5                h62dcd97_0  \n",
      "\n",
      "Note: you may need to restart the kernel to use updated packages.\n"
     ]
    }
   ],
   "source": [
    "conda env list && conda list x"
   ]
  },
  {
   "cell_type": "code",
   "execution_count": 5,
   "id": "06297f6a",
   "metadata": {},
   "outputs": [],
   "source": [
    "#  Set up Flask \n",
    "\n",
    "app = Flask(__name__)"
   ]
  },
  {
   "cell_type": "code",
   "execution_count": 6,
   "id": "aecc021b",
   "metadata": {},
   "outputs": [],
   "source": [
    "# Use flask_pymongo to set up mongo connection\n",
    "\n",
    "app.config[\"MONGO_URI\"] = \"mongodb://localhost:27017/mars_app\"\n",
    "mongo = PyMongo(app)"
   ]
  },
  {
   "cell_type": "code",
   "execution_count": 7,
   "id": "75b97b82",
   "metadata": {},
   "outputs": [],
   "source": [
    "# let's define the route for the HTML pag\n",
    "\n",
    "@app.route(\"/\")\n",
    "def index():\n",
    "   mars = mongo.db.mars.find_one()\n",
    "   return render_template(\"index.html\", mars=mars)"
   ]
  },
  {
   "cell_type": "code",
   "execution_count": 8,
   "id": "d4b653f2",
   "metadata": {},
   "outputs": [],
   "source": [
    "#  add the next route and function to our code\n",
    "\n",
    "@app.route(\"/scrape\")\n",
    "def scrape():\n",
    "   mars = mongo.db.mars\n",
    "   mars_data = scraping.scrape_all()\n",
    "   mars.update_one({}, {\"$set\":mars_data}, upsert=True)\n",
    "   return redirect('/', code=302)"
   ]
  },
  {
   "cell_type": "code",
   "execution_count": null,
   "id": "38dcc639",
   "metadata": {},
   "outputs": [],
   "source": [
    "# Let's take a look at the syntax we'll use, as shown below:\n",
    "\n",
    "if __name__ == \"__main__\":\n",
    "   app.run()"
   ]
  },
  {
   "cell_type": "code",
   "execution_count": null,
   "id": "a2e0c61f",
   "metadata": {},
   "outputs": [],
   "source": []
  }
 ],
 "metadata": {
  "kernelspec": {
   "display_name": "PythonData",
   "language": "python",
   "name": "pythondata"
  },
  "language_info": {
   "codemirror_mode": {
    "name": "ipython",
    "version": 3
   },
   "file_extension": ".py",
   "mimetype": "text/x-python",
   "name": "python",
   "nbconvert_exporter": "python",
   "pygments_lexer": "ipython3",
   "version": "3.7.11"
  }
 },
 "nbformat": 4,
 "nbformat_minor": 5
}
